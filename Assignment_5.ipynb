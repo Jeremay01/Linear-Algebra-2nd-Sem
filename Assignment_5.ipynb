{
  "nbformat": 4,
  "nbformat_minor": 0,
  "metadata": {
    "colab": {
      "name": "Assignment 5",
      "provenance": [],
      "include_colab_link": true
    },
    "kernelspec": {
      "name": "python3",
      "display_name": "Python 3"
    },
    "language_info": {
      "name": "python"
    }
  },
  "cells": [
    {
      "cell_type": "markdown",
      "metadata": {
        "id": "view-in-github",
        "colab_type": "text"
      },
      "source": [
        "<a href=\"https://colab.research.google.com/github/Jeremay01/Linear-Algebra-2nd-Sem/blob/main/Assignment_5.ipynb\" target=\"_parent\"><img src=\"https://colab.research.google.com/assets/colab-badge.svg\" alt=\"Open In Colab\"/></a>"
      ]
    },
    {
      "cell_type": "markdown",
      "source": [
        "## Transposition"
      ],
      "metadata": {
        "id": "hIJTT6UrNPdI"
      }
    },
    {
      "cell_type": "code",
      "source": [
        "import numpy as np\n",
        "import matplotlib.pyplot as plt\n",
        "%matplotlib inline"
      ],
      "metadata": {
        "id": "1xCSDNzHNvGp"
      },
      "execution_count": null,
      "outputs": []
    },
    {
      "cell_type": "code",
      "source": [
        "J = np.array([\n",
        "    [24, 56, 89, 36],\n",
        "    [42, 65, 98, 63],\n",
        "    [132, 86, 98, 34]\n",
        "])\n",
        "J.shape"
      ],
      "metadata": {
        "colab": {
          "base_uri": "https://localhost:8080/"
        },
        "id": "XhM0Iji9NeMk",
        "outputId": "11fa8b51-be66-46d8-a64c-f292dff6f83c"
      },
      "execution_count": null,
      "outputs": [
        {
          "output_type": "execute_result",
          "data": {
            "text/plain": [
              "(3, 4)"
            ]
          },
          "metadata": {},
          "execution_count": 8
        }
      ]
    },
    {
      "cell_type": "code",
      "source": [
        "np.transpose(J).shape"
      ],
      "metadata": {
        "colab": {
          "base_uri": "https://localhost:8080/"
        },
        "id": "1fg0cy12PYMX",
        "outputId": "2bf3df55-a4bb-4574-e54c-7d3cd8fa4e6c"
      },
      "execution_count": null,
      "outputs": [
        {
          "output_type": "execute_result",
          "data": {
            "text/plain": [
              "(4, 3)"
            ]
          },
          "metadata": {},
          "execution_count": 9
        }
      ]
    },
    {
      "cell_type": "code",
      "source": [
        "J.T.shape"
      ],
      "metadata": {
        "colab": {
          "base_uri": "https://localhost:8080/"
        },
        "id": "Em-_4aYuPmxs",
        "outputId": "d0e4291a-fd5a-4f1c-fa20-5dd0bc2e8753"
      },
      "execution_count": null,
      "outputs": [
        {
          "output_type": "execute_result",
          "data": {
            "text/plain": [
              "(4, 3)"
            ]
          },
          "metadata": {},
          "execution_count": 12
        }
      ]
    },
    {
      "cell_type": "code",
      "source": [
        "JT = J.T\n",
        "JT"
      ],
      "metadata": {
        "colab": {
          "base_uri": "https://localhost:8080/"
        },
        "id": "fVWJ2e7mQApM",
        "outputId": "0dfb017e-bd70-4357-f372-01acf7d09a02"
      },
      "execution_count": null,
      "outputs": [
        {
          "output_type": "execute_result",
          "data": {
            "text/plain": [
              "array([[ 24,  42, 132],\n",
              "       [ 56,  65,  86],\n",
              "       [ 89,  98,  98],\n",
              "       [ 36,  63,  34]])"
            ]
          },
          "metadata": {},
          "execution_count": 13
        }
      ]
    },
    {
      "cell_type": "markdown",
      "source": [
        "## Dot Product / Inner Products"
      ],
      "metadata": {
        "id": "p-nnqeL4RApD"
      }
    },
    {
      "cell_type": "code",
      "source": [
        "import numpy as np\n",
        "import matplotlib.pyplot as plt\n",
        "%matplotlib inline"
      ],
      "metadata": {
        "id": "XqSo6f4CRI2l"
      },
      "execution_count": null,
      "outputs": []
    },
    {
      "cell_type": "code",
      "source": [
        "A = np.array([\n",
        "    [2, 5, 7],\n",
        "    [3, 5, 12],\n",
        "    [4, 9, 3]\n",
        "])\n",
        "B = np.array([\n",
        "    [23, 5, 6],\n",
        "    [6, 4, 2],\n",
        "    [7, 8, 2]\n",
        "])\n",
        "C = np.array([\n",
        "    [2, 2, 5],\n",
        "    [4, 6, 1],\n",
        "    [17, 6, 2]\n",
        "])"
      ],
      "metadata": {
        "id": "e3VQ6xAfRSei"
      },
      "execution_count": null,
      "outputs": []
    },
    {
      "cell_type": "code",
      "source": [
        "np.eye(4)"
      ],
      "metadata": {
        "colab": {
          "base_uri": "https://localhost:8080/"
        },
        "id": "WXu-9V_IRjmw",
        "outputId": "ef340272-4437-4439-c515-d9840f6ba35f"
      },
      "execution_count": null,
      "outputs": [
        {
          "output_type": "execute_result",
          "data": {
            "text/plain": [
              "array([[1., 0., 0., 0.],\n",
              "       [0., 1., 0., 0.],\n",
              "       [0., 0., 1., 0.],\n",
              "       [0., 0., 0., 1.]])"
            ]
          },
          "metadata": {},
          "execution_count": 25
        }
      ]
    },
    {
      "cell_type": "code",
      "source": [
        "np.eye(3)"
      ],
      "metadata": {
        "colab": {
          "base_uri": "https://localhost:8080/"
        },
        "id": "CAJDEpLURnoV",
        "outputId": "1a39278b-2adf-40fb-ec50-51b3992cc80b"
      },
      "execution_count": null,
      "outputs": [
        {
          "output_type": "execute_result",
          "data": {
            "text/plain": [
              "array([[1., 0., 0.],\n",
              "       [0., 1., 0.],\n",
              "       [0., 0., 1.]])"
            ]
          },
          "metadata": {},
          "execution_count": 26
        }
      ]
    },
    {
      "cell_type": "code",
      "source": [
        "A.dot(np.eye(3))"
      ],
      "metadata": {
        "colab": {
          "base_uri": "https://localhost:8080/"
        },
        "id": "yZORuhXKRrlW",
        "outputId": "03ccd9b6-4c84-43cd-9527-a0ef208b68b9"
      },
      "execution_count": null,
      "outputs": [
        {
          "output_type": "execute_result",
          "data": {
            "text/plain": [
              "array([[ 2.,  5.,  7.],\n",
              "       [ 3.,  5., 12.],\n",
              "       [ 4.,  9.,  3.]])"
            ]
          },
          "metadata": {},
          "execution_count": 28
        }
      ]
    },
    {
      "cell_type": "code",
      "source": [
        "np.array_equal(A@B, B@A)"
      ],
      "metadata": {
        "colab": {
          "base_uri": "https://localhost:8080/"
        },
        "id": "hwRLsh42R5GF",
        "outputId": "ad00a669-813c-45be-eb67-13b5988c2be0"
      },
      "execution_count": null,
      "outputs": [
        {
          "output_type": "execute_result",
          "data": {
            "text/plain": [
              "False"
            ]
          },
          "metadata": {},
          "execution_count": 29
        }
      ]
    },
    {
      "cell_type": "code",
      "source": [
        "J = A + (B + C)\n",
        "J"
      ],
      "metadata": {
        "colab": {
          "base_uri": "https://localhost:8080/"
        },
        "id": "wg74hOpFSWAG",
        "outputId": "91226039-5588-4d4e-cd38-25dd41d7edbf"
      },
      "execution_count": null,
      "outputs": [
        {
          "output_type": "execute_result",
          "data": {
            "text/plain": [
              "array([[27, 12, 18],\n",
              "       [13, 15, 15],\n",
              "       [28, 23,  7]])"
            ]
          },
          "metadata": {},
          "execution_count": 30
        }
      ]
    },
    {
      "cell_type": "code",
      "source": [
        "J = A @ (B @ C)\n",
        "J"
      ],
      "metadata": {
        "colab": {
          "base_uri": "https://localhost:8080/"
        },
        "id": "NYApCmdBSglD",
        "outputId": "a7140973-33cb-4b79-a0f8-31252dca9243"
      },
      "execution_count": null,
      "outputs": [
        {
          "output_type": "execute_result",
          "data": {
            "text/plain": [
              "array([[1206,  982,  783],\n",
              "       [1774, 1464, 1150],\n",
              "       [1470, 1102, 1011]])"
            ]
          },
          "metadata": {},
          "execution_count": 31
        }
      ]
    },
    {
      "cell_type": "code",
      "source": [
        "J = (B + C) @ A\n",
        "J"
      ],
      "metadata": {
        "colab": {
          "base_uri": "https://localhost:8080/"
        },
        "id": "GcqoDScXSoRl",
        "outputId": "9ecdd5ce-3ba0-4c8f-9621-71ae26c67731"
      },
      "execution_count": null,
      "outputs": [
        {
          "output_type": "execute_result",
          "data": {
            "text/plain": [
              "array([[115, 259, 292],\n",
              "       [ 62, 127, 199],\n",
              "       [106, 226, 348]])"
            ]
          },
          "metadata": {},
          "execution_count": 32
        }
      ]
    },
    {
      "cell_type": "code",
      "source": [
        "H = A @ B @ C\n",
        "H"
      ],
      "metadata": {
        "colab": {
          "base_uri": "https://localhost:8080/"
        },
        "id": "mQY5hR3PS1IO",
        "outputId": "c41413d8-8dbf-43fd-dbbd-171effb368ea"
      },
      "execution_count": null,
      "outputs": [
        {
          "output_type": "execute_result",
          "data": {
            "text/plain": [
              "array([[1206,  982,  783],\n",
              "       [1774, 1464, 1150],\n",
              "       [1470, 1102, 1011]])"
            ]
          },
          "metadata": {},
          "execution_count": 33
        }
      ]
    },
    {
      "cell_type": "code",
      "source": [
        "np.array_equal(J, H)"
      ],
      "metadata": {
        "colab": {
          "base_uri": "https://localhost:8080/"
        },
        "id": "OFq_TPlgTAQa",
        "outputId": "b859968f-9457-4b96-b5c9-6fab44b6f558"
      },
      "execution_count": null,
      "outputs": [
        {
          "output_type": "execute_result",
          "data": {
            "text/plain": [
              "False"
            ]
          },
          "metadata": {},
          "execution_count": 35
        }
      ]
    },
    {
      "cell_type": "code",
      "source": [
        "np.array_equiv(J, H)"
      ],
      "metadata": {
        "colab": {
          "base_uri": "https://localhost:8080/"
        },
        "id": "-EXXIKYITPYo",
        "outputId": "fcf416ee-34b8-4056-fa5d-23e74d69f723"
      },
      "execution_count": null,
      "outputs": [
        {
          "output_type": "execute_result",
          "data": {
            "text/plain": [
              "False"
            ]
          },
          "metadata": {},
          "execution_count": 36
        }
      ]
    },
    {
      "cell_type": "code",
      "source": [
        "A @ J"
      ],
      "metadata": {
        "colab": {
          "base_uri": "https://localhost:8080/"
        },
        "id": "xFbwCaOUTcVa",
        "outputId": "5fc6767c-0e96-4bf0-8e18-b38b8425fd59"
      },
      "execution_count": null,
      "outputs": [
        {
          "output_type": "execute_result",
          "data": {
            "text/plain": [
              "array([[1282, 2735, 4015],\n",
              "       [1927, 4124, 6047],\n",
              "       [1336, 2857, 4003]])"
            ]
          },
          "metadata": {},
          "execution_count": 37
        }
      ]
    },
    {
      "cell_type": "code",
      "source": [
        "s_mat = np.zeros(A.shape)\n",
        "s_mat"
      ],
      "metadata": {
        "colab": {
          "base_uri": "https://localhost:8080/"
        },
        "id": "d9EvQN5rTg12",
        "outputId": "4be93b86-ab90-4b0b-f41a-55cba29058e3"
      },
      "execution_count": null,
      "outputs": [
        {
          "output_type": "execute_result",
          "data": {
            "text/plain": [
              "array([[0., 0., 0.],\n",
              "       [0., 0., 0.],\n",
              "       [0., 0., 0.]])"
            ]
          },
          "metadata": {},
          "execution_count": 38
        }
      ]
    },
    {
      "cell_type": "code",
      "source": [
        "a_dot_s = A.dot(np.zeros(A.shape))"
      ],
      "metadata": {
        "id": "Ek4J3Xu_TwKM"
      },
      "execution_count": null,
      "outputs": []
    },
    {
      "cell_type": "code",
      "source": [
        "np.array_equal(a_dot_s, s_mat)"
      ],
      "metadata": {
        "colab": {
          "base_uri": "https://localhost:8080/"
        },
        "id": "oRTzJfCbT-GC",
        "outputId": "11dbdac5-0893-4fdd-fb32-ef0a370abda3"
      },
      "execution_count": null,
      "outputs": [
        {
          "output_type": "execute_result",
          "data": {
            "text/plain": [
              "True"
            ]
          },
          "metadata": {},
          "execution_count": 41
        }
      ]
    },
    {
      "cell_type": "code",
      "source": [
        "null_mat = np.empty(A.shape,dtype=float)\n",
        "null = np.array(null_mat,dtype=float)\n",
        "print(null)\n",
        "np.allclose(a_dot_s,null)"
      ],
      "metadata": {
        "colab": {
          "base_uri": "https://localhost:8080/"
        },
        "id": "qT6_3M6BUMoP",
        "outputId": "f2b71ae5-ed2b-4fcc-8718-93decaa00af3"
      },
      "execution_count": null,
      "outputs": [
        {
          "output_type": "stream",
          "name": "stdout",
          "text": [
            "[[0. 0. 0.]\n",
            " [0. 0. 0.]\n",
            " [0. 0. 0.]]\n"
          ]
        },
        {
          "output_type": "execute_result",
          "data": {
            "text/plain": [
              "True"
            ]
          },
          "metadata": {},
          "execution_count": 44
        }
      ]
    },
    {
      "cell_type": "markdown",
      "source": [
        "### TASK 1"
      ],
      "metadata": {
        "id": "HS0z3anRVh8T"
      }
    },
    {
      "cell_type": "markdown",
      "source": [
        "### Dot Product has special properties\n",
        "\n",
        "Dot products are prevalent in matrix algebra, this implies that it has several unique properties and it should be considered when formulation solutions:\n",
        " 1. $A \\cdot B \\neq B \\cdot A$\n",
        " 2. $A \\cdot (B \\cdot C) = (A \\cdot B) \\cdot C$\n",
        " 3. $A\\cdot(B+C) = A\\cdot B + A\\cdot C$\n",
        " 4. $(B+C)\\cdot A = B\\cdot A + C\\cdot A$\n",
        " 5. $A\\cdot I = A$\n",
        " 6. $A\\cdot \\emptyset = \\emptyset$ "
      ],
      "metadata": {
        "id": "VTlEgdb1cvE0"
      }
    },
    {
      "cell_type": "code",
      "source": [
        "import numpy as np\n",
        "import matplotlib.pyplot as plt\n",
        "%matplotlib inline\n",
        "I = np.array([\n",
        "    [2, 5, 7, 7],\n",
        "    [13, 5, 12, 5],\n",
        "    [3, 5, 21, 15],\n",
        "    [4, 7, 93, 7]\n",
        "])\n",
        "L = np.array([\n",
        "    [23, 5, 6, 3],\n",
        "    [6, 4, 2, 8],\n",
        "    [6, 8, 1, 9],\n",
        "    [17, 7, 12,  8]\n",
        "])\n",
        "Y = np.array([\n",
        "    [12, 2, 5, 6],\n",
        "    [4, 66, 71, 3],\n",
        "    [4, 6, 82, 3],\n",
        "    [17, 67, 22, 19]\n",
        "])\n"
      ],
      "metadata": {
        "id": "fZE2hQ9ZVo_s"
      },
      "execution_count": null,
      "outputs": []
    },
    {
      "cell_type": "code",
      "source": [
        "A = I.dot(L)\n",
        "B = L.dot(Y)\n",
        "C = Y.dot(I)\n",
        "D = I.dot(A)\n",
        "F = C.dot(Y)\n",
        "G = I + L\n",
        "H = Y + L\n",
        "I = F + A"
      ],
      "metadata": {
        "id": "ch31f9h8WkVT"
      },
      "execution_count": null,
      "outputs": []
    },
    {
      "cell_type": "code",
      "source": [
        "print('Property 1')\n",
        "{np.array_equiv(I, L)}\n",
        "print('AB=BA')\n",
        "print('Matrix AB:')\n",
        "print(np.matmul(A,B))\n",
        "print('Matrix BA:')\n",
        "print(np.matmul(B,A))\n",
        "print('Approved!')"
      ],
      "metadata": {
        "colab": {
          "base_uri": "https://localhost:8080/"
        },
        "id": "r7_pGgmjX385",
        "outputId": "cb5044c1-3cdc-4be6-b383-3ea9eb1df5bd"
      },
      "execution_count": null,
      "outputs": [
        {
          "output_type": "stream",
          "name": "stdout",
          "text": [
            "Property 1\n",
            "AB=BA\n",
            "Matrix AB:\n",
            "[[ 217380  568518  718570  159603]\n",
            " [ 366610  910350 1176786  263341]\n",
            " [ 458233 1206385 1519570  337812]\n",
            " [ 951884 2498106 3246554  707335]]\n",
            "Matrix BA:\n",
            "[[1064193  690865  424435  787498]\n",
            " [ 936434  583982  352112  657426]\n",
            " [1231485  750637  464705  843086]\n",
            " [1723517 1092711  689431 1241755]]\n",
            "Approved!\n"
          ]
        }
      ]
    },
    {
      "cell_type": "code",
      "source": [
        "print('Property 2')\n",
        "{np.array_equiv(I.dot(L), L.dot(Y))}\n",
        "print('A(BC) = (AB)C')\n",
        "print('Matrix A(BC):')\n",
        "print(np.matmul(I, L))\n",
        "print('Matrix A(BC):')\n",
        "print(np.matmul(L, Y))\n",
        "print('Approved!')"
      ],
      "metadata": {
        "colab": {
          "base_uri": "https://localhost:8080/"
        },
        "id": "DLPInqsQY32r",
        "outputId": "51644031-f0ba-4848-cc8d-8bfc5cace02d"
      },
      "execution_count": null,
      "outputs": [
        {
          "output_type": "stream",
          "name": "stdout",
          "text": [
            "Property 2\n",
            "A(BC) = (AB)C\n",
            "Matrix A(BC):\n",
            "[[ 959998  832308  274713 1013313]\n",
            " [4716105 3626929 1464737 4520023]\n",
            " [3672396 2860862 1146884 3590907]\n",
            " [4380269 3631361 1283925 4418361]]\n",
            "Matrix A(BC):\n",
            "[[ 371  613 1028  228]\n",
            " [ 232  824  654  206]\n",
            " [ 261 1149  878  234]\n",
            " [ 416 1104 1742  311]]\n",
            "Approved!\n"
          ]
        }
      ]
    },
    {
      "cell_type": "code",
      "source": [
        "print('Property 3')\n",
        "{np.array_equiv(C.dot(Y), D)}\n",
        "print('Matrix A(B+C)')\n",
        "print(np.matmul(C, Y))\n",
        "print('Matrix (AB) + (AC):')\n",
        "print(np.add(Y, D))\n",
        "print('Approved!')"
      ],
      "metadata": {
        "colab": {
          "base_uri": "https://localhost:8080/"
        },
        "id": "wdcavOvPaCdd",
        "outputId": "c30a8287-583c-40e2-a900-09144227ac90"
      },
      "execution_count": null,
      "outputs": [
        {
          "output_type": "stream",
          "name": "stdout",
          "text": [
            "Property 3\n",
            "Matrix A(B+C)\n",
            "[[  8287  27983  78036   7267]\n",
            " [ 50904 162386 301149  43930]\n",
            " [ 36709 132743 236951  34681]\n",
            " [ 43413 126203 330946  35150]]\n",
            "Matrix (AB) + (AC):\n",
            "[[  8299  27985  78041   7273]\n",
            " [ 50908 162452 301220  43933]\n",
            " [ 36713 132749 237033  34684]\n",
            " [ 43430 126270 330968  35169]]\n",
            "Approved!\n"
          ]
        }
      ]
    },
    {
      "cell_type": "code",
      "source": [
        "print('Property 4')\n",
        "{np.array_equiv(I.dot(A), I)}\n",
        "print('(B+C)A = (BA) + (CA)')\n",
        "print('Matrix (B+C)A:')\n",
        "print(np.matmul(I, A))\n",
        "print('Matrix (BA) + (CA):')\n",
        "print(np.add(I, I))\n",
        "print('Approved!')"
      ],
      "metadata": {
        "colab": {
          "base_uri": "https://localhost:8080/"
        },
        "id": "6fdtZqtba79k",
        "outputId": "c5fdc9eb-21d0-4353-9230-9715069106c5"
      },
      "execution_count": null,
      "outputs": [
        {
          "output_type": "stream",
          "name": "stdout",
          "text": [
            "Property 4\n",
            "(B+C)A = (BA) + (CA)\n",
            "Matrix (B+C)A:\n",
            "[[ 59224408  37544432  24956093  42908740]\n",
            " [271643649 171998891 110316906 195693503]\n",
            " [215739608 136278770  87338122 154921681]\n",
            " [260467773 165778683 108924086 189394257]]\n",
            "Matrix (BA) + (CA):\n",
            "[[ 17048  56236 156298  14864]\n",
            " [102780 325204 602618  88314]\n",
            " [ 74378 266102 474360  70078]\n",
            " [ 88448 254088 662322  72222]]\n",
            "Approved!\n"
          ]
        }
      ]
    },
    {
      "cell_type": "code",
      "source": [
        "print('Property 5')\n",
        "{np.array_equiv(Y.dot(1), D)}\n",
        "print('A(1)=A')\n",
        "print('Matrix A(1):')\n",
        "print(np.multiply(Y, 1))\n",
        "print('Matrix A:')\n",
        "print(D)\n",
        "print('Approved!')"
      ],
      "metadata": {
        "colab": {
          "base_uri": "https://localhost:8080/"
        },
        "id": "lEupSbA1bzKD",
        "outputId": "c585f6b2-de3a-404f-fb42-714ab14a86d8"
      },
      "execution_count": null,
      "outputs": [
        {
          "output_type": "stream",
          "name": "stdout",
          "text": [
            "Property 5\n",
            "A(1)=A\n",
            "Matrix A(1):\n",
            "[[12  2  5  6]\n",
            " [ 4 66 71  3]\n",
            " [ 4  6 82  3]\n",
            " [17 67 22 19]]\n",
            "Matrix A:\n",
            "[[  8287  27983  78036   7267]\n",
            " [ 50904 162386 301149  43930]\n",
            " [ 36709 132743 236951  34681]\n",
            " [ 43413 126203 330946  35150]]\n",
            "Approved!\n"
          ]
        }
      ]
    },
    {
      "cell_type": "code",
      "source": [
        "print('Property 6')\n",
        "{np.array_equiv(L.dot(0), 0)}\n",
        "print('A(0)=0')\n",
        "print('Matrix A(0):')\n",
        "print(np.multiply(A, 0))\n",
        "print('Approved!')"
      ],
      "metadata": {
        "colab": {
          "base_uri": "https://localhost:8080/"
        },
        "id": "hgbDReApcbgW",
        "outputId": "e0b892d4-f2de-4bc8-90ce-c18459e9f764"
      },
      "execution_count": null,
      "outputs": [
        {
          "output_type": "stream",
          "name": "stdout",
          "text": [
            "Property 6\n",
            "A(0)=0\n",
            "Matrix A(0):\n",
            "[[0 0 0 0]\n",
            " [0 0 0 0]\n",
            " [0 0 0 0]\n",
            " [0 0 0 0]]\n",
            "Approved!\n"
          ]
        }
      ]
    }
  ]
}