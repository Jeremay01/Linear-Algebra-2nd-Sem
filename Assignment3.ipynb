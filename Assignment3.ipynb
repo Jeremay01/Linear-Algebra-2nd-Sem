{
  "nbformat": 4,
  "nbformat_minor": 0,
  "metadata": {
    "colab": {
      "name": "Lab 2.ipynb",
      "provenance": [],
      "collapsed_sections": [],
      "authorship_tag": "ABX9TyMxPIESmzGtu4IdrzN3e1oL",
      "include_colab_link": true
    },
    "kernelspec": {
      "name": "python3",
      "display_name": "Python 3"
    },
    "language_info": {
      "name": "python"
    }
  },
  "cells": [
    {
      "cell_type": "markdown",
      "metadata": {
        "id": "view-in-github",
        "colab_type": "text"
      },
      "source": [
        "<a href=\"https://colab.research.google.com/github/Jeremay01/Linear-Algebra-2nd-Sem/blob/main/Assignment3.ipynb\" target=\"_parent\"><img src=\"https://colab.research.google.com/assets/colab-badge.svg\" alt=\"Open In Colab\"/></a>"
      ]
    },
    {
      "cell_type": "markdown",
      "source": [
        "## Practice Number 1"
      ],
      "metadata": {
        "id": "VhmWXUPSKthq"
      }
    },
    {
      "cell_type": "code",
      "source": [
        "1. Given the linear combination below, try to create a corresponding matrix representing it."
      ],
      "metadata": {
        "id": "4LXV9JebQw-4"
      },
      "execution_count": null,
      "outputs": []
    },
    {
      "cell_type": "markdown",
      "source": [
        "$$\\theta = 5x + 3y - z$$"
      ],
      "metadata": {
        "id": "MSuWwcLaQ3_Q"
      }
    },
    {
      "cell_type": "code",
      "source": [
        "import numpy as np\n",
        "import matplotlib.pyplot as plt\n",
        "import scipy.linalg as la\n",
        "%matplotlib inline\n",
        "def describe_mat (matrix):\n",
        " print(f'Matrix:\\n{matrix}\\n\\nShape:\\t{matrix.shape}\\nRank:\\t{matrix.ndim}\\n')\n",
        "theta = np.array ([\n",
        "  [5,3,-1]\n",
        "])\n",
        "describe_mat (theta)"
      ],
      "metadata": {
        "colab": {
          "base_uri": "https://localhost:8080/"
        },
        "id": "F4SY6sUVKB0q",
        "outputId": "5d624b14-736e-4709-f259-bdb59a71b5a5"
      },
      "execution_count": null,
      "outputs": [
        {
          "output_type": "stream",
          "name": "stdout",
          "text": [
            "Matrix:\n",
            "[[ 5  3 -1]]\n",
            "\n",
            "Shape:\t(1, 3)\n",
            "Rank:\t2\n",
            "\n"
          ]
        }
      ]
    },
    {
      "cell_type": "markdown",
      "source": [
        "## Practice Number 2"
      ],
      "metadata": {
        "id": "nTd_Jb9OKxft"
      }
    },
    {
      "cell_type": "markdown",
      "source": [
        "2. Given the system of linear combinations below, try to encode it as a matrix. Also describe the matrix."
      ],
      "metadata": {
        "id": "RiYoVGzIQ_29"
      }
    },
    {
      "cell_type": "markdown",
      "source": [
        "$$\n",
        "A = \\left\\{\\begin{array}\n",
        "5x_1 + 2x_2 +x_3\\\\\n",
        "4x_2 - x_3\\\\\n",
        "10x_3\n",
        "\\end{array}\\right.\n",
        "$$"
      ],
      "metadata": {
        "id": "FdQ5NMC3RDMT"
      }
    },
    {
      "cell_type": "code",
      "source": [
        "import numpy as np\n",
        "import matplotlib.pyplot as plt\n",
        "import scipy.linalg as la\n",
        "%matplotlib inline"
      ],
      "metadata": {
        "id": "1OxfFg59MSQC"
      },
      "execution_count": null,
      "outputs": []
    },
    {
      "cell_type": "code",
      "source": [
        "\n",
        "def describe_mat(matrix):\n",
        "    is_square = True if matrix.shape[0] == matrix.shape[1] else False\n",
        "    print(f'Matrix:\\n{matrix}\\n\\nShape:\\t{matrix.shape}\\nRank:\\t{matrix.ndim}\\nIs square: {is_square}\\n')\n",
        "D = np.array ([\n",
        "   [1,2,1],\n",
        "   [0,4,-1],\n",
        "   [0,0,10]                     \n",
        "])\n",
        "\n",
        "describe_mat(D)"
      ],
      "metadata": {
        "colab": {
          "base_uri": "https://localhost:8080/"
        },
        "id": "THzYD18RKQx8",
        "outputId": "6a4838c5-fe04-4999-ad72-66d57cd8c7c3"
      },
      "execution_count": null,
      "outputs": [
        {
          "output_type": "stream",
          "name": "stdout",
          "text": [
            "Matrix:\n",
            "[[ 1  2  1]\n",
            " [ 0  4 -1]\n",
            " [ 0  0 10]]\n",
            "\n",
            "Shape:\t(3, 3)\n",
            "Rank:\t2\n",
            "Is square: True\n",
            "\n"
          ]
        }
      ]
    },
    {
      "cell_type": "markdown",
      "source": [
        "## Practice Number 3"
      ],
      "metadata": {
        "id": "zUx8iF0cN8M6"
      }
    },
    {
      "cell_type": "markdown",
      "source": [
        "3. Given the matrix below, express it as a linear combination in a markdown."
      ],
      "metadata": {
        "id": "ULokXmlxRG5t"
      }
    },
    {
      "cell_type": "code",
      "source": [
        "import numpy as np\n",
        "import matplotlib.pyplot as plt\n",
        "import scipy.linalg as la\n",
        "%matplotlib inline"
      ],
      "metadata": {
        "id": "xPbjFSHCRsCN"
      },
      "execution_count": null,
      "outputs": []
    },
    {
      "cell_type": "code",
      "source": [
        "G = np.array([\n",
        "    [1,7,8],\n",
        "    [2,2,2],\n",
        "    [4,6,7]\n",
        "])\n"
      ],
      "metadata": {
        "id": "UWHNsGXEQN2T"
      },
      "execution_count": null,
      "outputs": []
    },
    {
      "cell_type": "markdown",
      "source": [
        "$$\n",
        "G = \\left\\{\n",
        "    \\begin{array}\\\n",
        "        x + 7y + 8z \\\\\n",
        "        2x + 2y + 2z \\\\\n",
        "        4x + 6y + 7z \\\\\n",
        "    \\end{array}\n",
        "\\right. \\\\\n",
        " $$\n"
      ],
      "metadata": {
        "id": "_QCdC3StL5ic"
      }
    },
    {
      "cell_type": "markdown",
      "source": [
        "## Practice Number 4"
      ],
      "metadata": {
        "id": "N21bMb47O-p6"
      }
    },
    {
      "cell_type": "markdown",
      "source": [
        "4. Given the matrix below, display the output as a LaTeX makdown also express it as a system of linear combinations."
      ],
      "metadata": {
        "id": "YY1a8tIFQDpy"
      }
    },
    {
      "cell_type": "code",
      "source": [
        "import numpy as np\n",
        "import matplotlib.pyplot as plt\n",
        "import scipy.linalg as la\n",
        "%matplotlib inline"
      ],
      "metadata": {
        "id": "mufS7ulpTdiG"
      },
      "execution_count": null,
      "outputs": []
    },
    {
      "cell_type": "code",
      "source": [
        "H = np.tril(G)\n",
        "H"
      ],
      "metadata": {
        "colab": {
          "base_uri": "https://localhost:8080/"
        },
        "id": "dtawKt1MQGo9",
        "outputId": "c284243b-dca1-4cfd-c85d-07ab92eb4f2f"
      },
      "execution_count": null,
      "outputs": [
        {
          "output_type": "execute_result",
          "data": {
            "text/plain": [
              "array([[1, 0, 0],\n",
              "       [2, 2, 0],\n",
              "       [4, 6, 7]])"
            ]
          },
          "metadata": {},
          "execution_count": 10
        }
      ]
    },
    {
      "cell_type": "markdown",
      "source": [
        "$$\n",
        "G = \\left\\{\n",
        "    \\begin{array}\\\n",
        "        x  \\\\\n",
        "        2x + 2y \\\\\n",
        "        4x + 6y +7z \\\\\n",
        "    \\end{array}\n",
        "\\right. \\\\\n",
        " $$\n"
      ],
      "metadata": {
        "id": "E8Vkf7VUPigJ"
      }
    },
    {
      "cell_type": "markdown",
      "source": [
        "$$ G=\\begin{bmatrix} 1 & 0 & 0 \\\\ 2 & 2 & 0 \\\\ 4 & 6 & 7\\end{bmatrix}\n",
        "$$"
      ],
      "metadata": {
        "id": "YOuhan7mT6cR"
      }
    },
    {
      "cell_type": "markdown",
      "source": [
        "# Tasks"
      ],
      "metadata": {
        "id": "KaNi3glTaUYn"
      }
    },
    {
      "cell_type": "markdown",
      "source": [
        "##**Task 1**"
      ],
      "metadata": {
        "id": "J9p7tykbajeb"
      }
    },
    {
      "cell_type": "markdown",
      "source": [
        "Create a function named mat_desc() that thouroughly describes a matrix , it should:\n",
        "\n",
        "  1. Displays the shape, size and rank of the matrix.\n",
        "  2. Displays whether the matrix is a square or non-square.\n",
        "  3. Displays whether the matrix is an empty matrix.\n",
        "  4. Displays if the matrix is an identity, ones or zeros matrix.\n",
        "\n",
        "Use samples 3 matrices in which their shapes are not lower than **(3,3)**. In your methodology, create a flowchart discuss the functions and methods you have done. Present your results in the results section showing the description of each matrix you have declared."
      ],
      "metadata": {
        "id": "0csKyKiMalZD"
      }
    },
    {
      "cell_type": "code",
      "source": [
        "def describe_mat (matrix):\n",
        "      print(f'Matrix:\\n{matrix}\\n\\nShape:\\t{matrix.shape}\\nRank\"\\t{matrix.ndim}\\n')\n",
        "      "
      ],
      "metadata": {
        "id": "5HL3sC_zanU_"
      },
      "execution_count": null,
      "outputs": []
    },
    {
      "cell_type": "markdown",
      "source": [
        "###**Shape, Size and Rank**"
      ],
      "metadata": {
        "id": "cFQ2bAutapqU"
      }
    },
    {
      "cell_type": "code",
      "source": [
        "import numpy as np\n",
        "import matplotlib.pyplot as plt\n",
        "import scipy.linalg as la\n",
        "%matplotlib inline"
      ],
      "metadata": {
        "id": "07C8Uq3XawUZ"
      },
      "execution_count": null,
      "outputs": []
    },
    {
      "cell_type": "code",
      "source": [
        "Z = np.array([\n",
        "    [8, 6, 2, 4],\n",
        "    [4, 7, 9, 1],\n",
        "    [10, 9, 8, 7],\n",
        "    [23, 6, 11, 5]\n",
        "])\n",
        "describe_mat(Z)"
      ],
      "metadata": {
        "colab": {
          "base_uri": "https://localhost:8080/"
        },
        "id": "HmO6f4NJarNj",
        "outputId": "1eb9afa2-e6e9-4eb5-dad5-3ac3fc834abc"
      },
      "execution_count": null,
      "outputs": [
        {
          "output_type": "stream",
          "name": "stdout",
          "text": [
            "Matrix:\n",
            "[[ 8  6  2  4]\n",
            " [ 4  7  9  1]\n",
            " [10  9  8  7]\n",
            " [23  6 11  5]]\n",
            "\n",
            "Shape:\t(4, 4)\n",
            "Rank\"\t2\n",
            "\n"
          ]
        }
      ]
    },
    {
      "cell_type": "code",
      "source": [
        "Y = np.array([\n",
        "    [2, 4, 6, 8, 10],\n",
        "    [3, 6, 9, 12, 15],\n",
        "    [4, 8, 12, 16, 20],\n",
        "    [5, 10, 15, 20, 25]\n",
        "])\n",
        "describe_mat(Y)"
      ],
      "metadata": {
        "colab": {
          "base_uri": "https://localhost:8080/"
        },
        "id": "1qOcu_t-a0SP",
        "outputId": "4e267492-e9e8-45f5-ad19-48e021328730"
      },
      "execution_count": null,
      "outputs": [
        {
          "output_type": "stream",
          "name": "stdout",
          "text": [
            "Matrix:\n",
            "[[ 2  4  6  8 10]\n",
            " [ 3  6  9 12 15]\n",
            " [ 4  8 12 16 20]\n",
            " [ 5 10 15 20 25]]\n",
            "\n",
            "Shape:\t(4, 5)\n",
            "Rank\"\t2\n",
            "\n"
          ]
        }
      ]
    },
    {
      "cell_type": "code",
      "source": [
        "X = np.array([\n",
        "    [1, 2, 3, 4,],\n",
        "    [10, 9, 8, 7],\n",
        "    [4, 6, 8, 10],\n",
        "    [14, 7, 9, 1],\n",
        "    [4, 8, 5, 67]\n",
        "])\n",
        "describe_mat(X)"
      ],
      "metadata": {
        "colab": {
          "base_uri": "https://localhost:8080/"
        },
        "id": "awb4w1SWa25g",
        "outputId": "15def63d-0c26-45f6-e928-48236411d629"
      },
      "execution_count": null,
      "outputs": [
        {
          "output_type": "stream",
          "name": "stdout",
          "text": [
            "Matrix:\n",
            "[[ 1  2  3  4]\n",
            " [10  9  8  7]\n",
            " [ 4  6  8 10]\n",
            " [14  7  9  1]\n",
            " [ 4  8  5 67]]\n",
            "\n",
            "Shape:\t(5, 4)\n",
            "Rank\"\t2\n",
            "\n"
          ]
        }
      ]
    },
    {
      "cell_type": "markdown",
      "source": [
        "###**Square and Non-Square Matrices**"
      ],
      "metadata": {
        "id": "Wy8tSJGpa529"
      }
    },
    {
      "cell_type": "code",
      "source": [
        "def mat_desc(matrix):\n",
        "  is_square = True if matrix.shape[0] == matrix.shape[1] else False\n",
        "  print(f'Matrix:\\n{matrix}\\n\\nShape:\\t{matrix.shape}\\nRank:\\t{matrix.ndim}\\n')"
      ],
      "metadata": {
        "id": "Tdpgw2wga6RK"
      },
      "execution_count": null,
      "outputs": []
    },
    {
      "cell_type": "code",
      "source": [
        "square_mat = np.array([\n",
        "    [3, 8, 7, 9],\n",
        "    [9, 8, 3, 5],\n",
        "    [6, 2, 7, 5],\n",
        "    [1, 6, 0, 4]\n",
        "])\n",
        "\n",
        "non_square_mat = np.array([\n",
        "    [5, 7, 3, 6, 0],\n",
        "    [3, 78, 14, 17, 5],\n",
        "    [56, 1, 3, 90, 4],\n",
        "    [5, 24, 10, 11, 9]\n",
        "])\n",
        "\n",
        "mat_desc(square_mat)\n",
        "mat_desc(non_square_mat)"
      ],
      "metadata": {
        "colab": {
          "base_uri": "https://localhost:8080/"
        },
        "id": "Jc-N-rfqa9HL",
        "outputId": "8a281cd6-8089-4a54-984b-3c2aec20615a"
      },
      "execution_count": null,
      "outputs": [
        {
          "output_type": "stream",
          "name": "stdout",
          "text": [
            "Matrix:\n",
            "[[3 8 7 9]\n",
            " [9 8 3 5]\n",
            " [6 2 7 5]\n",
            " [1 6 0 4]]\n",
            "\n",
            "Shape:\t(4, 4)\n",
            "Rank:\t2\n",
            "\n",
            "Matrix:\n",
            "[[ 5  7  3  6  0]\n",
            " [ 3 78 14 17  5]\n",
            " [56  1  3 90  4]\n",
            " [ 5 24 10 11  9]]\n",
            "\n",
            "Shape:\t(4, 5)\n",
            "Rank:\t2\n",
            "\n"
          ]
        }
      ]
    },
    {
      "cell_type": "code",
      "source": [
        "square_mat = np.array([\n",
        "    [4, 8, 12, 91],\n",
        "    [23, 16, 7, 10],\n",
        "    [56, 12, 45, 1],\n",
        "    [9, 41, 34, 7]\n",
        "])\n",
        "\n",
        "non_square_mat = np.array([\n",
        "    [23, 78, 14, 56, 89],\n",
        "    [67, 10 , 11, 56, 34],\n",
        "    [43, 92, 12, 0, 4],\n",
        "    [78, 101, 79, 34, 2]\n",
        "])\n",
        "\n",
        "mat_desc(square_mat)\n",
        "mat_desc(non_square_mat)"
      ],
      "metadata": {
        "colab": {
          "base_uri": "https://localhost:8080/"
        },
        "id": "WPpxujUga_LT",
        "outputId": "90e8b6d0-3439-475f-b633-23c79cc35347"
      },
      "execution_count": null,
      "outputs": [
        {
          "output_type": "stream",
          "name": "stdout",
          "text": [
            "Matrix:\n",
            "[[ 4  8 12 91]\n",
            " [23 16  7 10]\n",
            " [56 12 45  1]\n",
            " [ 9 41 34  7]]\n",
            "\n",
            "Shape:\t(4, 4)\n",
            "Rank:\t2\n",
            "\n",
            "Matrix:\n",
            "[[ 23  78  14  56  89]\n",
            " [ 67  10  11  56  34]\n",
            " [ 43  92  12   0   4]\n",
            " [ 78 101  79  34   2]]\n",
            "\n",
            "Shape:\t(4, 5)\n",
            "Rank:\t2\n",
            "\n"
          ]
        }
      ]
    },
    {
      "cell_type": "code",
      "source": [
        "square_mat = np.array([\n",
        "    [3, 4, 5, 6],\n",
        "    [1, 2, 3, 4],\n",
        "    [9, 8, 7, 6],\n",
        "    [4, 6, 2, 6]\n",
        "])\n",
        "\n",
        "non_square_mat = np.array([\n",
        "    [4, 7, 2, 8, 9],\n",
        "    [12, 87, 46, 23, 1],\n",
        "    [23, 67, 12, 40, 1],\n",
        "    [56, 17, 19, 23, 65]\n",
        "])\n",
        "\n",
        "mat_desc(square_mat)\n",
        "mat_desc(non_square_mat)"
      ],
      "metadata": {
        "colab": {
          "base_uri": "https://localhost:8080/"
        },
        "id": "gljBqUbObBRF",
        "outputId": "58636f56-2bf5-4d9a-e6cd-525ce9e6e46b"
      },
      "execution_count": null,
      "outputs": [
        {
          "output_type": "stream",
          "name": "stdout",
          "text": [
            "Matrix:\n",
            "[[3 4 5 6]\n",
            " [1 2 3 4]\n",
            " [9 8 7 6]\n",
            " [4 6 2 6]]\n",
            "\n",
            "Shape:\t(4, 4)\n",
            "Rank:\t2\n",
            "\n",
            "Matrix:\n",
            "[[ 4  7  2  8  9]\n",
            " [12 87 46 23  1]\n",
            " [23 67 12 40  1]\n",
            " [56 17 19 23 65]]\n",
            "\n",
            "Shape:\t(4, 5)\n",
            "Rank:\t2\n",
            "\n"
          ]
        }
      ]
    },
    {
      "cell_type": "markdown",
      "source": [
        "###**Empty Matrix**"
      ],
      "metadata": {
        "id": "YMMqcxNYbD66"
      }
    },
    {
      "cell_type": "code",
      "source": [
        "def mat_desc(matrix):\n",
        "  if matrix.size > 0:\n",
        "    is_square = True if matrix.shape[0] == matrix.shape[1] else False\n",
        "    print(f'Matrix:\\n{matrix}\\n\\nShape:\\t{matrix.shape}\\nRank:\\t{matrix.ndim}\\n')\n",
        "  else:\n",
        "    print('Matrix is Null')"
      ],
      "metadata": {
        "id": "ItJXqyrhbElG"
      },
      "execution_count": null,
      "outputs": []
    },
    {
      "cell_type": "code",
      "source": [
        "null_mat = np.array([])\n",
        "mat_desc(null_mat)"
      ],
      "metadata": {
        "colab": {
          "base_uri": "https://localhost:8080/"
        },
        "id": "jkPSlYT4bG--",
        "outputId": "09b2c53c-9660-431d-a533-3a2688f26df1"
      },
      "execution_count": null,
      "outputs": [
        {
          "output_type": "stream",
          "name": "stdout",
          "text": [
            "Matrix is Null\n"
          ]
        }
      ]
    },
    {
      "cell_type": "markdown",
      "source": [
        "###**Identity**"
      ],
      "metadata": {
        "id": "ylQgQtV6bJcv"
      }
    },
    {
      "cell_type": "code",
      "source": [
        "np. eye (5)"
      ],
      "metadata": {
        "colab": {
          "base_uri": "https://localhost:8080/"
        },
        "id": "S-1ggEypbK_C",
        "outputId": "7ddd61ae-6d4b-44b8-c615-74e7f8ec15a2"
      },
      "execution_count": null,
      "outputs": [
        {
          "output_type": "execute_result",
          "data": {
            "text/plain": [
              "array([[1., 0., 0., 0., 0.],\n",
              "       [0., 1., 0., 0., 0.],\n",
              "       [0., 0., 1., 0., 0.],\n",
              "       [0., 0., 0., 1., 0.],\n",
              "       [0., 0., 0., 0., 1.]])"
            ]
          },
          "metadata": {},
          "execution_count": 20
        }
      ]
    },
    {
      "cell_type": "code",
      "source": [
        "np.identity (10)"
      ],
      "metadata": {
        "colab": {
          "base_uri": "https://localhost:8080/"
        },
        "id": "m8hTeFYmblTg",
        "outputId": "8ca531fb-2c66-4019-c6c0-c3768e7ef504"
      },
      "execution_count": null,
      "outputs": [
        {
          "output_type": "execute_result",
          "data": {
            "text/plain": [
              "array([[1., 0., 0., 0., 0., 0., 0., 0., 0., 0.],\n",
              "       [0., 1., 0., 0., 0., 0., 0., 0., 0., 0.],\n",
              "       [0., 0., 1., 0., 0., 0., 0., 0., 0., 0.],\n",
              "       [0., 0., 0., 1., 0., 0., 0., 0., 0., 0.],\n",
              "       [0., 0., 0., 0., 1., 0., 0., 0., 0., 0.],\n",
              "       [0., 0., 0., 0., 0., 1., 0., 0., 0., 0.],\n",
              "       [0., 0., 0., 0., 0., 0., 1., 0., 0., 0.],\n",
              "       [0., 0., 0., 0., 0., 0., 0., 1., 0., 0.],\n",
              "       [0., 0., 0., 0., 0., 0., 0., 0., 1., 0.],\n",
              "       [0., 0., 0., 0., 0., 0., 0., 0., 0., 1.]])"
            ]
          },
          "metadata": {},
          "execution_count": 22
        }
      ]
    },
    {
      "cell_type": "code",
      "source": [
        "np.eye (16)"
      ],
      "metadata": {
        "colab": {
          "base_uri": "https://localhost:8080/"
        },
        "id": "xu8IMsqYbncX",
        "outputId": "b3a5b22e-e7e7-4652-f1a4-efbfebad938b"
      },
      "execution_count": null,
      "outputs": [
        {
          "output_type": "execute_result",
          "data": {
            "text/plain": [
              "array([[1., 0., 0., 0., 0., 0., 0., 0., 0., 0., 0., 0., 0., 0., 0., 0.],\n",
              "       [0., 1., 0., 0., 0., 0., 0., 0., 0., 0., 0., 0., 0., 0., 0., 0.],\n",
              "       [0., 0., 1., 0., 0., 0., 0., 0., 0., 0., 0., 0., 0., 0., 0., 0.],\n",
              "       [0., 0., 0., 1., 0., 0., 0., 0., 0., 0., 0., 0., 0., 0., 0., 0.],\n",
              "       [0., 0., 0., 0., 1., 0., 0., 0., 0., 0., 0., 0., 0., 0., 0., 0.],\n",
              "       [0., 0., 0., 0., 0., 1., 0., 0., 0., 0., 0., 0., 0., 0., 0., 0.],\n",
              "       [0., 0., 0., 0., 0., 0., 1., 0., 0., 0., 0., 0., 0., 0., 0., 0.],\n",
              "       [0., 0., 0., 0., 0., 0., 0., 1., 0., 0., 0., 0., 0., 0., 0., 0.],\n",
              "       [0., 0., 0., 0., 0., 0., 0., 0., 1., 0., 0., 0., 0., 0., 0., 0.],\n",
              "       [0., 0., 0., 0., 0., 0., 0., 0., 0., 1., 0., 0., 0., 0., 0., 0.],\n",
              "       [0., 0., 0., 0., 0., 0., 0., 0., 0., 0., 1., 0., 0., 0., 0., 0.],\n",
              "       [0., 0., 0., 0., 0., 0., 0., 0., 0., 0., 0., 1., 0., 0., 0., 0.],\n",
              "       [0., 0., 0., 0., 0., 0., 0., 0., 0., 0., 0., 0., 1., 0., 0., 0.],\n",
              "       [0., 0., 0., 0., 0., 0., 0., 0., 0., 0., 0., 0., 0., 1., 0., 0.],\n",
              "       [0., 0., 0., 0., 0., 0., 0., 0., 0., 0., 0., 0., 0., 0., 1., 0.],\n",
              "       [0., 0., 0., 0., 0., 0., 0., 0., 0., 0., 0., 0., 0., 0., 0., 1.]])"
            ]
          },
          "metadata": {},
          "execution_count": 23
        }
      ]
    },
    {
      "cell_type": "markdown",
      "source": [
        "###**Ones**"
      ],
      "metadata": {
        "id": "EoknlPHCbq2M"
      }
    },
    {
      "cell_type": "code",
      "source": [
        "ones_mat_row = np.ones((9,5))\n",
        "ones_mat_sqr = np.ones((6,5))\n",
        "ones_mat_rct = np.ones((7,4))\n",
        "\n",
        "print(f'ones Row Matrix: \\n{ones_mat_row}')\n",
        "print(f'ones Square Matrix: \\n{ones_mat_sqr}')\n",
        "print(f'ones Rectangular Matrix: \\n{ones_mat_rct}')"
      ],
      "metadata": {
        "colab": {
          "base_uri": "https://localhost:8080/"
        },
        "id": "3-gxnowSbsNZ",
        "outputId": "4688c493-3c0c-49a7-cfcf-1b7b0edccf33"
      },
      "execution_count": null,
      "outputs": [
        {
          "output_type": "stream",
          "name": "stdout",
          "text": [
            "ones Row Matrix: \n",
            "[[1. 1. 1. 1. 1.]\n",
            " [1. 1. 1. 1. 1.]\n",
            " [1. 1. 1. 1. 1.]\n",
            " [1. 1. 1. 1. 1.]\n",
            " [1. 1. 1. 1. 1.]\n",
            " [1. 1. 1. 1. 1.]\n",
            " [1. 1. 1. 1. 1.]\n",
            " [1. 1. 1. 1. 1.]\n",
            " [1. 1. 1. 1. 1.]]\n",
            "ones Square Matrix: \n",
            "[[1. 1. 1. 1. 1.]\n",
            " [1. 1. 1. 1. 1.]\n",
            " [1. 1. 1. 1. 1.]\n",
            " [1. 1. 1. 1. 1.]\n",
            " [1. 1. 1. 1. 1.]\n",
            " [1. 1. 1. 1. 1.]]\n",
            "ones Rectangular Matrix: \n",
            "[[1. 1. 1. 1.]\n",
            " [1. 1. 1. 1.]\n",
            " [1. 1. 1. 1.]\n",
            " [1. 1. 1. 1.]\n",
            " [1. 1. 1. 1.]\n",
            " [1. 1. 1. 1.]\n",
            " [1. 1. 1. 1.]]\n"
          ]
        }
      ]
    },
    {
      "cell_type": "markdown",
      "source": [
        "###**Zeros**"
      ],
      "metadata": {
        "id": "8FwVOxkGbvVS"
      }
    },
    {
      "cell_type": "code",
      "source": [
        "zero_mat_row = np.zeros((8,3))\n",
        "zero_mat_sqr = np.zeros((4,4))\n",
        "zero_mat_rct = np.zeros((7,5))\n",
        "\n",
        "print(f'Zero Row Matrix: \\n{zero_mat_row}')\n",
        "print(f'Zero Square Matrix: \\n{zero_mat_sqr}')\n",
        "print(f'Zero Rectangular Matrix: \\n{zero_mat_rct}')"
      ],
      "metadata": {
        "colab": {
          "base_uri": "https://localhost:8080/"
        },
        "id": "pm8_jZ6cbv7G",
        "outputId": "8827f45d-74eb-4c9c-f3ec-b51823a5caf4"
      },
      "execution_count": null,
      "outputs": [
        {
          "output_type": "stream",
          "name": "stdout",
          "text": [
            "Zero Row Matrix: \n",
            "[[0. 0. 0.]\n",
            " [0. 0. 0.]\n",
            " [0. 0. 0.]\n",
            " [0. 0. 0.]\n",
            " [0. 0. 0.]\n",
            " [0. 0. 0.]\n",
            " [0. 0. 0.]\n",
            " [0. 0. 0.]]\n",
            "Zero Square Matrix: \n",
            "[[0. 0. 0. 0.]\n",
            " [0. 0. 0. 0.]\n",
            " [0. 0. 0. 0.]\n",
            " [0. 0. 0. 0.]]\n",
            "Zero Rectangular Matrix: \n",
            "[[0. 0. 0. 0. 0.]\n",
            " [0. 0. 0. 0. 0.]\n",
            " [0. 0. 0. 0. 0.]\n",
            " [0. 0. 0. 0. 0.]\n",
            " [0. 0. 0. 0. 0.]\n",
            " [0. 0. 0. 0. 0.]\n",
            " [0. 0. 0. 0. 0.]]\n"
          ]
        }
      ]
    },
    {
      "cell_type": "markdown",
      "source": [
        "##**Task 2**"
      ],
      "metadata": {
        "id": "jo3qz5KSol1k"
      }
    },
    {
      "cell_type": "code",
      "source": [
        "import numpy as np\n",
        "import matplotlib.pyplot as plt\n",
        "import scipy.linalg as la\n",
        "%matplotlib inline"
      ],
      "metadata": {
        "id": "wwdCnUYcomrw"
      },
      "execution_count": 1,
      "outputs": []
    },
    {
      "cell_type": "code",
      "source": [
        "def mat_operations(mat1, mat2):\n",
        "    mat1 = np.array(mat1)\n",
        "    mat2 = np.array(mat2)\n",
        "    print('Matrix 1:', mat1)\n",
        "    print('Matrix 2:', mat2)\n",
        "    if(mat1.shape != mat2.shape):\n",
        "        print('The shape of both matrices are not same. Could not perform operations.')\n",
        "        return\n",
        "    print('Sum of the given matrices:')\n",
        "    msum = mat1 + mat2\n",
        "    print(msum)\n",
        "    print('Difference of the given matrices:')\n",
        "    mdiff = mat1 - mat2\n",
        "    print(mdiff)\n",
        "    print('Element-wise multiplication of the given matrices:')\n",
        "    mmul = np.multiply(mat1, mat2)\n",
        "    print(mmul)\n",
        "    print('Element-wise division of the given matrices:')\n",
        "    mmul = np.divide(mat1, mat2)\n",
        "    print(mmul)\n",
        "mat_operations([\n",
        "    [5,2,7,4,4,3], \n",
        "    [8,9,9,5,8,6],\n",
        "    [1,2,3,4,5,6],\n",
        "    [2,4,6,8,10,0]],\n",
        "\n",
        "    [[9,8,7,6,5,4], \n",
        "    [4,2,1,1,0,3],\n",
        "    [7,2,5,8,3,6],\n",
        "    [4,1,0,2,5,8]])\n"
      ],
      "metadata": {
        "colab": {
          "base_uri": "https://localhost:8080/"
        },
        "id": "kJCkZPFdooeT",
        "outputId": "5a0263b5-e873-48fe-9a6d-590eb9704e31"
      },
      "execution_count": 2,
      "outputs": [
        {
          "output_type": "stream",
          "name": "stdout",
          "text": [
            "Matrix 1: [[ 5  2  7  4  4  3]\n",
            " [ 8  9  9  5  8  6]\n",
            " [ 1  2  3  4  5  6]\n",
            " [ 2  4  6  8 10  0]]\n",
            "Matrix 2: [[9 8 7 6 5 4]\n",
            " [4 2 1 1 0 3]\n",
            " [7 2 5 8 3 6]\n",
            " [4 1 0 2 5 8]]\n",
            "Sum of the given matrices:\n",
            "[[14 10 14 10  9  7]\n",
            " [12 11 10  6  8  9]\n",
            " [ 8  4  8 12  8 12]\n",
            " [ 6  5  6 10 15  8]]\n",
            "Difference of the given matrices:\n",
            "[[-4 -6  0 -2 -1 -1]\n",
            " [ 4  7  8  4  8  3]\n",
            " [-6  0 -2 -4  2  0]\n",
            " [-2  3  6  6  5 -8]]\n",
            "Element-wise multiplication of the given matrices:\n",
            "[[45 16 49 24 20 12]\n",
            " [32 18  9  5  0 18]\n",
            " [ 7  4 15 32 15 36]\n",
            " [ 8  4  0 16 50  0]]\n",
            "Element-wise division of the given matrices:\n",
            "[[0.55555556 0.25       1.         0.66666667 0.8        0.75      ]\n",
            " [2.         4.5        9.         5.                inf 2.        ]\n",
            " [0.14285714 1.         0.6        0.5        1.66666667 1.        ]\n",
            " [0.5        4.                inf 4.         2.         0.        ]]\n"
          ]
        },
        {
          "output_type": "stream",
          "name": "stderr",
          "text": [
            "/usr/local/lib/python3.7/dist-packages/ipykernel_launcher.py:19: RuntimeWarning: divide by zero encountered in true_divide\n"
          ]
        }
      ]
    },
    {
      "cell_type": "code",
      "source": [
        "def mat_operations(mat1, mat2):\n",
        "    mat1 = np.array(mat1)\n",
        "    mat2 = np.array(mat2)\n",
        "    print('Matrix 1:', mat1)\n",
        "    print('Matrix 2:', mat2)\n",
        "    if(mat1.shape != mat2.shape):\n",
        "        print('The shape of both matrices are not same. Could not perform operations.')\n",
        "        return\n",
        "    print('Sum of the given matrices:')\n",
        "    msum = mat1 + mat2\n",
        "    print(msum)\n",
        "    print('Difference of the given matrices:')\n",
        "    mdiff = mat1 - mat2\n",
        "    print(mdiff)\n",
        "    print('Element-wise multiplication of the given matrices:')\n",
        "    mmul = np.multiply(mat1, mat2)\n",
        "    print(mmul)\n",
        "    print('Element-wise division of the given matrices:')\n",
        "    mmul = np.divide(mat1, mat2)\n",
        "    print(mmul)\n",
        "mat_operations([\n",
        "    [3,1,2,3,4,5], \n",
        "    [6,5,7,7,6,9],\n",
        "    [2,4,9,3,5,4],\n",
        "    [3,4,6,4,8,9]],\n",
        "\n",
        "    [[1,4,3,3,9,3], \n",
        "    [1,6,2,5,1,4],\n",
        "    [2,9,1,8,1,5],\n",
        "    [3,6,8,6,8,6]])"
      ],
      "metadata": {
        "colab": {
          "base_uri": "https://localhost:8080/"
        },
        "id": "poJWPRKsoyRr",
        "outputId": "4fd3942f-6bb4-41e3-db8e-85fc649763a5"
      },
      "execution_count": 4,
      "outputs": [
        {
          "output_type": "stream",
          "name": "stdout",
          "text": [
            "Matrix 1: [[3 1 2 3 4 5]\n",
            " [6 5 7 7 6 9]\n",
            " [2 4 9 3 5 4]\n",
            " [3 4 6 4 8 9]]\n",
            "Matrix 2: [[1 4 3 3 9 3]\n",
            " [1 6 2 5 1 4]\n",
            " [2 9 1 8 1 5]\n",
            " [3 6 8 6 8 6]]\n",
            "Sum of the given matrices:\n",
            "[[ 4  5  5  6 13  8]\n",
            " [ 7 11  9 12  7 13]\n",
            " [ 4 13 10 11  6  9]\n",
            " [ 6 10 14 10 16 15]]\n",
            "Difference of the given matrices:\n",
            "[[ 2 -3 -1  0 -5  2]\n",
            " [ 5 -1  5  2  5  5]\n",
            " [ 0 -5  8 -5  4 -1]\n",
            " [ 0 -2 -2 -2  0  3]]\n",
            "Element-wise multiplication of the given matrices:\n",
            "[[ 3  4  6  9 36 15]\n",
            " [ 6 30 14 35  6 36]\n",
            " [ 4 36  9 24  5 20]\n",
            " [ 9 24 48 24 64 54]]\n",
            "Element-wise division of the given matrices:\n",
            "[[3.         0.25       0.66666667 1.         0.44444444 1.66666667]\n",
            " [6.         0.83333333 3.5        1.4        6.         2.25      ]\n",
            " [1.         0.44444444 9.         0.375      5.         0.8       ]\n",
            " [1.         0.66666667 0.75       0.66666667 1.         1.5       ]]\n"
          ]
        }
      ]
    }
  ]
}