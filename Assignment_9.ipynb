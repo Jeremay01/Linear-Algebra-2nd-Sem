{
  "nbformat": 4,
  "nbformat_minor": 0,
  "metadata": {
    "colab": {
      "name": "Assignment 9",
      "provenance": [],
      "authorship_tag": "ABX9TyNsr3XBUjueTGNEjf4dyjnX",
      "include_colab_link": true
    },
    "kernelspec": {
      "name": "python3",
      "display_name": "Python 3"
    },
    "language_info": {
      "name": "python"
    }
  },
  "cells": [
    {
      "cell_type": "markdown",
      "metadata": {
        "id": "view-in-github",
        "colab_type": "text"
      },
      "source": [
        "<a href=\"https://colab.research.google.com/github/Jeremay01/Linear-Algebra-2nd-Sem/blob/main/Assignment_9.ipynb\" target=\"_parent\"><img src=\"https://colab.research.google.com/assets/colab-badge.svg\" alt=\"Open In Colab\"/></a>"
      ]
    },
    {
      "cell_type": "markdown",
      "source": [
        "# Lab 2 - Plotting Vector using NumPy and MatPlotLib"
      ],
      "metadata": {
        "id": "W_F8oz-Xkvwi"
      }
    },
    {
      "cell_type": "markdown",
      "source": [
        "In this laboratory we will be discussing the basics of numerical and scientific programming by working with Vectors using NumPy and MatPlotLib."
      ],
      "metadata": {
        "id": "SGVrZjzfkz9I"
      }
    },
    {
      "cell_type": "markdown",
      "source": [
        "### Objectives\n",
        "At the end of this activity you will be able to:\n",
        "1. Be familiar with the libraries in Python for numerical and scientific programming.\n",
        "2. Visualize vectors through Python programming.\n",
        "3. Perform simple vector operations through code."
      ],
      "metadata": {
        "id": "SKwO1yRck1oW"
      }
    },
    {
      "cell_type": "markdown",
      "source": [
        "## Discussion"
      ],
      "metadata": {
        "id": "klwqCz72k5J0"
      }
    },
    {
      "cell_type": "markdown",
      "source": [
        "### NumPy"
      ],
      "metadata": {
        "id": "jI8-pe-7k8z4"
      }
    },
    {
      "cell_type": "markdown",
      "source": [
        "NumPy or Numerical Python, is mainly used for matrix and vector operations. It is capable of declaring computing and representing matrices. Most Python scientific programming libraries uses NumPy as the basic code."
      ],
      "metadata": {
        "id": "9U66KJKClALV"
      }
    },
    {
      "cell_type": "markdown",
      "source": [
        "Scalars \\\\\n",
        "Represent magnitude or a single value\n",
        "\n",
        "Vectors \\\\\n",
        "Represent magnitude with directors"
      ],
      "metadata": {
        "id": "kwPpxYEelB0G"
      }
    },
    {
      "cell_type": "markdown",
      "source": [
        "#### Representing Vectors"
      ],
      "metadata": {
        "id": "it0zKklVlEAQ"
      }
    },
    {
      "cell_type": "markdown",
      "source": [
        "Now that you know how to represent vectors using their component and matrix form we can now hard-code them in Python. Let's say that you have the vectors:"
      ],
      "metadata": {
        "id": "c_gh08FNlGED"
      }
    },
    {
      "cell_type": "markdown",
      "source": [
        "$$ A = 12\\hat{x} + 33\\hat{y} \\\\\n",
        "B = 15\\hat{x} - 29\\hat{y} + 21\\hat{z} \\\\\n",
        "C = 12ax + 31ay - 23az \\\\\n",
        "D = 7\\hat{i} - 32\\hat{j} + 4\\hat{k}$$"
      ],
      "metadata": {
        "id": "G74KYbHglICG"
      }
    },
    {
      "cell_type": "markdown",
      "source": [
        "In which it's matrix equivalent is:"
      ],
      "metadata": {
        "id": "WWo6RZeDlKfN"
      }
    },
    {
      "cell_type": "markdown",
      "source": [
        "$$ A = \\begin{bmatrix} 12 \\\\ 33\\end{bmatrix} , B = \\begin{bmatrix} 15 \\\\ -29 \\\\ 21\\end{bmatrix} , C = \\begin{bmatrix} 12 \\\\ 31 \\\\  -23 \\end{bmatrix}, D = \\begin{bmatrix} 7 \\\\ -32 \\\\ 4\\end{bmatrix}\n",
        "$$\n",
        "$$ A = \\begin{bmatrix} 12 & 33\\end{bmatrix} , B = \\begin{bmatrix} 15 & -29 & 21\\end{bmatrix} , C = \\begin{bmatrix} 12 & 31 & -23\\end{bmatrix} , D = \\begin{bmatrix} 7 & -32 & 4\\end{bmatrix} \n",
        "$$"
      ],
      "metadata": {
        "id": "n0oFQAsTlM85"
      }
    },
    {
      "cell_type": "markdown",
      "source": [
        "We can then start doing numpy code with this by:"
      ],
      "metadata": {
        "id": "9GXsTnAMlPK7"
      }
    },
    {
      "cell_type": "code",
      "execution_count": null,
      "metadata": {
        "id": "tnK7JMoOHxZg"
      },
      "outputs": [],
      "source": [
        "## Importing necessary libraries\n",
        "import numpy as np ## 'np' here is short-hand name of the library (numpy) or a nickname."
      ]
    },
    {
      "cell_type": "code",
      "source": [
        "A = np.array([12, 33])\n",
        "B = np.array([\n",
        "              [15],\n",
        "              [-29],\n",
        "              [21]])\n",
        "C = np.array([\n",
        "              [12],\n",
        "              [31],\n",
        "              [-23]])\n",
        "D = np.array ([[7],\n",
        "              [-32],\n",
        "              [4]])\n",
        "print('Vector A is ', A)\n",
        "print('Vector B is ', B)\n",
        "print('Vector C is ', C)\n",
        "print('Vector D is ', D)"
      ],
      "metadata": {
        "colab": {
          "base_uri": "https://localhost:8080/"
        },
        "id": "LeKwjaDzZ5n1",
        "outputId": "98a692e3-8f44-4806-dad6-26926d534188"
      },
      "execution_count": null,
      "outputs": [
        {
          "output_type": "stream",
          "name": "stdout",
          "text": [
            "Vector A is  [12 33]\n",
            "Vector B is  [[ 15]\n",
            " [-29]\n",
            " [ 21]]\n",
            "Vector C is  [[ 12]\n",
            " [ 31]\n",
            " [-23]]\n",
            "Vector D is  [[  7]\n",
            " [-32]\n",
            " [  4]]\n"
          ]
        }
      ]
    },
    {
      "cell_type": "markdown",
      "source": [
        "#### Describing vectors in NumPy"
      ],
      "metadata": {
        "id": "e_Tfu0m5aFWa"
      }
    },
    {
      "cell_type": "code",
      "source": [
        "### Checking shapes\n",
        "### Shapes tells us how many elements are there on each row and column\n",
        "\n",
        "A.shape\n",
        "H = np.array([100, 30, 24, 55, -0.2, 10, 5, 7, 99, 65, 123, 456, 789])\n",
        "H.shape"
      ],
      "metadata": {
        "colab": {
          "base_uri": "https://localhost:8080/"
        },
        "id": "DLUSmjqYaHEU",
        "outputId": "aeab2a41-6114-4618-e318-9309882e8b37"
      },
      "execution_count": null,
      "outputs": [
        {
          "output_type": "execute_result",
          "data": {
            "text/plain": [
              "(13,)"
            ]
          },
          "metadata": {},
          "execution_count": 4
        }
      ]
    },
    {
      "cell_type": "code",
      "source": [
        "### Checking size\n",
        "### Array/Vector sizes tells us many total number of elements are there in the vector\n",
        "\n",
        "H.size"
      ],
      "metadata": {
        "colab": {
          "base_uri": "https://localhost:8080/"
        },
        "id": "8sHpGSMJaO15",
        "outputId": "e46e875d-1ea1-4e32-9b6d-7842d6e9dcd1"
      },
      "execution_count": null,
      "outputs": [
        {
          "output_type": "execute_result",
          "data": {
            "text/plain": [
              "13"
            ]
          },
          "metadata": {},
          "execution_count": 5
        }
      ]
    },
    {
      "cell_type": "code",
      "source": [
        "### Checking dimensions\n",
        "### The dimensions or rank of a vector tells us how many dimensions are there for the vector.\n",
        "\n",
        "H.ndim"
      ],
      "metadata": {
        "colab": {
          "base_uri": "https://localhost:8080/"
        },
        "id": "ZZNa8z13aQj1",
        "outputId": "0adf465a-98a5-4dfa-9dc9-8a41170b2b39"
      },
      "execution_count": null,
      "outputs": [
        {
          "output_type": "execute_result",
          "data": {
            "text/plain": [
              "1"
            ]
          },
          "metadata": {},
          "execution_count": 6
        }
      ]
    },
    {
      "cell_type": "markdown",
      "source": [
        "#### Addition"
      ],
      "metadata": {
        "id": "4cpG3OtGazLj"
      }
    },
    {
      "cell_type": "markdown",
      "source": [
        "The addition rule is simple, the we just need to add the elements of the matrices according to their index. So in this case if we add vector $A$ and vector $B$ we will have a resulting vector:"
      ],
      "metadata": {
        "id": "3VYL-Q2_lVNS"
      }
    },
    {
      "cell_type": "markdown",
      "source": [
        "$$R = 123\\hat{x}-456\\hat{y} \\\\ \\\\or \\\\ \\\\ R = \\begin{bmatrix} 123 \\\\ -456\\end{bmatrix} $$"
      ],
      "metadata": {
        "id": "kMxsg6tJlXqc"
      }
    },
    {
      "cell_type": "markdown",
      "source": [
        "So let's try to do that in NumPy in several number of ways:"
      ],
      "metadata": {
        "id": "fOwY2h--laOR"
      }
    },
    {
      "cell_type": "code",
      "source": [
        "R = np.add(A, B) ## this is the functional method usisng the numpy library\n",
        "P = np.add(C, D)\n"
      ],
      "metadata": {
        "id": "emER3Ghya1h4"
      },
      "execution_count": null,
      "outputs": []
    },
    {
      "cell_type": "code",
      "source": [
        "R = A + B   ## this is the explicit method, since Python does a value-reference so it can \n",
        "            ## know that these variables would need to do array operations.\n",
        "R"
      ],
      "metadata": {
        "colab": {
          "base_uri": "https://localhost:8080/"
        },
        "id": "kJb7A2YMa5B6",
        "outputId": "c79883de-ec6a-419c-e39a-e6550d116edc"
      },
      "execution_count": null,
      "outputs": [
        {
          "output_type": "execute_result",
          "data": {
            "text/plain": [
              "array([[ 27,  48],\n",
              "       [-17,   4],\n",
              "       [ 33,  54]])"
            ]
          },
          "metadata": {},
          "execution_count": 8
        }
      ]
    },
    {
      "cell_type": "code",
      "source": [
        "R = C + D\n",
        "R"
      ],
      "metadata": {
        "colab": {
          "base_uri": "https://localhost:8080/"
        },
        "id": "u18CBApDq75p",
        "outputId": "58058b13-0363-4d18-b435-395237652ca8"
      },
      "execution_count": null,
      "outputs": [
        {
          "output_type": "execute_result",
          "data": {
            "text/plain": [
              "array([[ 19],\n",
              "       [ -1],\n",
              "       [-19]])"
            ]
          },
          "metadata": {},
          "execution_count": 9
        }
      ]
    },
    {
      "cell_type": "code",
      "source": [
        "pos1 = np.array([10,100,1000])\n",
        "pos2 = np.array([1,2,3])\n",
        "pos3 = np.array([4,40,400])\n",
        "pos4 = np.array([12,34,56])\n",
        "#R = pos1 + pos2 + pos3 + pos4\n",
        "#R = np.multiply(pos1, pos3)\n",
        "R = pos2 / pos4\n",
        "R"
      ],
      "metadata": {
        "colab": {
          "base_uri": "https://localhost:8080/"
        },
        "id": "H5Qf5zmFa66w",
        "outputId": "91f38de6-f3fd-49e6-bb34-f33be4c1f805"
      },
      "execution_count": null,
      "outputs": [
        {
          "output_type": "execute_result",
          "data": {
            "text/plain": [
              "array([0.08333333, 0.05882353, 0.05357143])"
            ]
          },
          "metadata": {},
          "execution_count": 10
        }
      ]
    },
    {
      "cell_type": "markdown",
      "source": [
        "##### Try for yourself!"
      ],
      "metadata": {
        "id": "aG0HEjMHlgKp"
      }
    },
    {
      "cell_type": "markdown",
      "source": [
        "Try to implement subtraction, multiplication, and division with vectors $A$ and $B$!"
      ],
      "metadata": {
        "id": "b_7ilpi7lh_i"
      }
    },
    {
      "cell_type": "code",
      "source": [
        "### Try out you code here! \n",
        "## Subtraction\n",
        "X = A - B\n",
        "X\n"
      ],
      "metadata": {
        "colab": {
          "base_uri": "https://localhost:8080/"
        },
        "id": "1QwV0E4alkzv",
        "outputId": "91745689-2c35-41ec-d833-e835e6e9b95b"
      },
      "execution_count": null,
      "outputs": [
        {
          "output_type": "execute_result",
          "data": {
            "text/plain": [
              "array([[-3, 18],\n",
              "       [41, 62],\n",
              "       [-9, 12]])"
            ]
          },
          "metadata": {},
          "execution_count": 11
        }
      ]
    },
    {
      "cell_type": "code",
      "source": [
        "## Multiplication\n",
        "Y = A*B\n",
        "Y"
      ],
      "metadata": {
        "colab": {
          "base_uri": "https://localhost:8080/"
        },
        "id": "8tHImME1sic_",
        "outputId": "7203cea3-1bfa-4482-80bf-bcc5b8234fae"
      },
      "execution_count": null,
      "outputs": [
        {
          "output_type": "execute_result",
          "data": {
            "text/plain": [
              "array([[ 180,  495],\n",
              "       [-348, -957],\n",
              "       [ 252,  693]])"
            ]
          },
          "metadata": {},
          "execution_count": 12
        }
      ]
    },
    {
      "cell_type": "code",
      "source": [
        "## Division\n",
        "Z = A / B\n",
        "Z"
      ],
      "metadata": {
        "colab": {
          "base_uri": "https://localhost:8080/"
        },
        "id": "dmgg9OhOsnDF",
        "outputId": "b3fe3c37-a5d4-4e4c-8efe-23d3a08c4ff8"
      },
      "execution_count": null,
      "outputs": [
        {
          "output_type": "execute_result",
          "data": {
            "text/plain": [
              "array([[ 0.8       ,  2.2       ],\n",
              "       [-0.4137931 , -1.13793103],\n",
              "       [ 0.57142857,  1.57142857]])"
            ]
          },
          "metadata": {},
          "execution_count": 13
        }
      ]
    },
    {
      "cell_type": "markdown",
      "source": [
        "### Scaling"
      ],
      "metadata": {
        "id": "7Qeso4ccbvl6"
      }
    },
    {
      "cell_type": "markdown",
      "source": [
        "Scaling or scalar multiplication takes a scalar value and performs multiplication with a vector. Let's take the example below:"
      ],
      "metadata": {
        "id": "-A6tBFCalpRb"
      }
    },
    {
      "cell_type": "markdown",
      "source": [
        "$$S = 25 \\cdot B$$"
      ],
      "metadata": {
        "id": "WUnrg5hFlr32"
      }
    },
    {
      "cell_type": "code",
      "source": [
        "#S = 25 * B\n",
        "S = np.multiply(5,A)\n",
        "S"
      ],
      "metadata": {
        "colab": {
          "base_uri": "https://localhost:8080/"
        },
        "id": "3dmSetpobv_d",
        "outputId": "c864623f-1443-4542-9861-177b584e289f"
      },
      "execution_count": null,
      "outputs": [
        {
          "output_type": "execute_result",
          "data": {
            "text/plain": [
              "array([ 60, 165])"
            ]
          },
          "metadata": {},
          "execution_count": 14
        }
      ]
    },
    {
      "cell_type": "markdown",
      "source": [
        "Try to implement scaling with two vectors."
      ],
      "metadata": {
        "id": "RIYImDi8lv5l"
      }
    },
    {
      "cell_type": "code",
      "source": [
        "#S = 36*D + 23*A\n",
        "S = np.multiply(36,D)\n",
        "T = np.multiply(23,A)\n",
        "R = S + T\n",
        "R"
      ],
      "metadata": {
        "colab": {
          "base_uri": "https://localhost:8080/"
        },
        "id": "sq4X5XgRtpKv",
        "outputId": "9d05e379-8b8b-4bd8-9385-104cd6fb422d"
      },
      "execution_count": null,
      "outputs": [
        {
          "output_type": "execute_result",
          "data": {
            "text/plain": [
              "array([[ 528, 1011],\n",
              "       [-876, -393],\n",
              "       [ 420,  903]])"
            ]
          },
          "metadata": {},
          "execution_count": 15
        }
      ]
    },
    {
      "cell_type": "markdown",
      "source": [
        "### MatPlotLib"
      ],
      "metadata": {
        "id": "E30VWYnFbzw-"
      }
    },
    {
      "cell_type": "markdown",
      "source": [
        "MatPlotLib or MATLab Plotting library is Python's take on MATLabs plotting feature. MatPlotLib can be used vastly from graping values to visualizing several dimensions of data."
      ],
      "metadata": {
        "id": "2EbU2Xgplztb"
      }
    },
    {
      "cell_type": "markdown",
      "source": [
        "#### Visualizing Data"
      ],
      "metadata": {
        "id": "I8ikhvFzb2Do"
      }
    },
    {
      "cell_type": "code",
      "source": [
        "import matplotlib.pyplot as plt\n",
        "import matplotlib\n",
        "%matplotlib inline"
      ],
      "metadata": {
        "id": "hZ0E53Teb3q3"
      },
      "execution_count": null,
      "outputs": []
    },
    {
      "cell_type": "code",
      "source": [
        "X = [5, -3]\n",
        "Y = [4, 5]\n",
        "plt.scatter(X[0], X[1], label='J', c='yellow')\n",
        "plt.scatter(Y[0], Y[1], label='E', c='blue')\n",
        "plt.grid()\n",
        "plt.legend()\n",
        "plt.show()"
      ],
      "metadata": {
        "colab": {
          "base_uri": "https://localhost:8080/",
          "height": 265
        },
        "id": "59D_jFeeb-1y",
        "outputId": "d0847f0d-fe2a-4b7a-e5bd-298150f12fce"
      },
      "execution_count": null,
      "outputs": [
        {
          "output_type": "display_data",
          "data": {
            "text/plain": [
              "<Figure size 432x288 with 1 Axes>"
            ],
            "image/png": "[encoded data removed]"
          },
          "metadata": {
            "needs_background": "light"
          }
        }
      ]
    },
    {
      "cell_type": "code",
      "source": [
        "J = np.array([7, -5])\n",
        "G = np.array([3, 9])\n",
        "R = J + G\n",
        "Magnitude = np.sqrt(np.sum(R**2))\n",
        "plt.title(\"Resultant Vector\\nMagnitude:{}\" .format(Magnitude))\n",
        "plt.xlim(20, -20)\n",
        "plt.ylim(-20, 20)\n",
        "plt.quiver(0, 0, J[0], J[1], angles='xy', scale_units='xy', scale=1, color='pink')\n",
        "plt.quiver(J[0], J[1], G[0], G[1], angles='xy', scale_units='xy', scale=1, color='teal')\n",
        "plt.quiver(0, 0, R[0], R[1], angles='xy', scale_units='xy', scale=1, color='indigo')\n",
        "plt.grid()\n",
        "plt.show()\n",
        "print(R)\n",
        "Magnitude = np.sqrt(np.sum(R**2))\n",
        "print(Magnitude)\n",
        "Slope = R[1]/R[0]\n",
        "print(Slope)\n",
        "Angle = (np.arctan(Slope))*(180/np.pi)\n",
        "print(Angle)"
      ],
      "metadata": {
        "colab": {
          "base_uri": "https://localhost:8080/",
          "height": 365
        },
        "id": "A5RxH-jacCXN",
        "outputId": "120d85f6-f11b-482c-e35e-bacae6ec87d7"
      },
      "execution_count": null,
      "outputs": [
        {
          "output_type": "display_data",
          "data": {
            "text/plain": [
              "<Figure size 432x288 with 1 Axes>"
            ],
            "image/png": "[encoded data removed]"
          },
          "metadata": {
            "needs_background": "light"
          }
        },
        {
          "output_type": "stream",
          "name": "stdout",
          "text": [
            "[10  4]\n",
            "10.770329614269007\n",
            "0.4\n",
            "21.80140948635181\n"
          ]
        }
      ]
    },
    {
      "cell_type": "code",
      "source": [
        "E = np.array([11, -21])\n",
        "F = np.array([13, 14])\n",
        "R = E + F\n",
        "plt.xlim(-50, 50)\n",
        "plt.ylim(50, -50)\n",
        "plt.quiver(0, 0, E[0], E[1], angles='xy', scale_units='xy',scale=1, color='teal')\n",
        "plt.quiver(E[0],E[1], F[0], F[1], angles='xy', scale_units='xy',scale=1, color='green')\n",
        "plt.quiver(0, 0, R[0], R[1], angles='xy', scale_units='xy',scale=1, color='magenta')\n",
        "plt.show()"
      ],
      "metadata": {
        "colab": {
          "base_uri": "https://localhost:8080/",
          "height": 265
        },
        "id": "bzSnLuApfAJI",
        "outputId": "bf896201-51cb-4389-be8a-535a6ad3e0b8"
      },
      "execution_count": null,
      "outputs": [
        {
          "output_type": "display_data",
          "data": {
            "text/plain": [
              "<Figure size 432x288 with 1 Axes>"
            ],
            "image/png": "[encoded data removed]"
          },
          "metadata": {
            "needs_background": "light"
          }
        }
      ]
    },
    {
      "cell_type": "markdown",
      "source": [
        "Try plotting Three Vectors and show the Resultant Vector as a result.\n",
        "Use Head to Tail Method."
      ],
      "metadata": {
        "id": "y12ZWO0phkKO"
      }
    },
    {
      "cell_type": "markdown",
      "source": [
        "## Trial"
      ],
      "metadata": {
        "id": "UO1-8j2uzoLK"
      }
    },
    {
      "cell_type": "code",
      "source": [
        "J = np.array ([15, 12,-13])\n",
        "G = np.array ([5, 55, -20])\n",
        "O = np.array ([7, 9, 15])\n",
        "Magnitude = np.sqrt(np.sum(R**2))\n",
        "print(Magnitude)\n",
        "plt.title(\"Resultant Vector\\nMagnitude:{}\" .format(Magnitude))\n",
        "plt.xlim(80, -80)\n",
        "plt.ylim(-80, 80)\n",
        "plt.quiver(0, 0, J[0], J[1], angles='xy', scale_units='xy', scale=1, color='pink')\n",
        "plt.quiver(J[0], J[1], G[0], G[1], angles='xy', scale_units='xy', scale=1, color='teal')\n",
        "R = J + G\n",
        "plt.quiver(0, 0, R[0], R[1], angles='xy', scale_units='xy', scale=1, color='indigo')\n",
        "plt.grid()\n",
        "plt.show()\n",
        "print(R)\n",
        "Magnitude = np.sqrt(np.sum(R**2))\n",
        "print(Magnitude)\n",
        "Slope = R[1]/R[0]\n",
        "print(Slope)\n",
        "Angle = (np.arctan(Slope))*(180/np.pi)\n",
        "print(Angle)"
      ],
      "metadata": {
        "colab": {
          "base_uri": "https://localhost:8080/",
          "height": 383
        },
        "id": "eq9_7cSezmlf",
        "outputId": "5d580fe4-0427-4942-ad68-4d7519914c61"
      },
      "execution_count": null,
      "outputs": [
        {
          "output_type": "stream",
          "name": "stdout",
          "text": [
            "60.81118318204309\n"
          ]
        },
        {
          "output_type": "display_data",
          "data": {
            "text/plain": [
              "<Figure size 432x288 with 1 Axes>"
            ],
            "image/png": "[encoded data removed]"
          },
          "metadata": {
            "needs_background": "light"
          }
        },
        {
          "output_type": "stream",
          "name": "stdout",
          "text": [
            "[ 20  67 -33]\n",
            "77.31752712031083\n",
            "3.35\n",
            "73.37924308610795\n"
          ]
        }
      ]
    }
  ]
}